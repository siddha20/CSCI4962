{
 "cells": [
  {
   "cell_type": "code",
   "execution_count": 53,
   "metadata": {},
   "outputs": [
    {
     "name": "stdout",
     "output_type": "stream",
     "text": [
      "tensor([2., 2., 2., 2., 2., 2., 2., 2., 2.], dtype=torch.float64,\n",
      "       grad_fn=<MulBackward0>)\n"
     ]
    }
   ],
   "source": [
    "import torch\n",
    "from torch import nn\n",
    "import numpy as np\n",
    "import time\n",
    "import matplotlib.pyplot as plt\n",
    "plt.rcParams['figure.figsize'] = [5, 2.5]\n",
    "def dx(f, wrt, n):\n",
    "    f = torch.sum(f)\n",
    "    for i in range(n):\n",
    "        grads = torch.autograd.grad(f, wrt, create_graph=True, allow_unused=True)[0]\n",
    "        f = grads.sum()\n",
    "    return grads\n",
    "x = np.linspace(1, 3, 3).reshape(-1, 1)\n",
    "y = np.linspace(1, 3, 3).reshape(-1, 1)\n",
    "X = np.array(np.meshgrid(x, y)).T.reshape(-1, 2)\n",
    "x = X[:, 0]\n",
    "y = X[:, 1]\n",
    "x = torch.from_numpy(x).requires_grad_()\n",
    "y = torch.from_numpy(y).requires_grad_()\n",
    "X = torch.from_numpy(X).float()\n",
    "X.requires_grad_()\n",
    "# f = X[:, 0]**2 + 2*X[:, 1]*X[:, 0]\n",
    "f = x**2 + 2*y*x\n",
    "# print(X)\n",
    "# print(x)\n",
    "# print(y)\n",
    "# print(f)\n",
    "# print(torch.autograd.grad(torch.sum(f), y, create_graph=True))\n",
    "print(dx(f, x, 2))\n",
    "# dx1 = torch.autograd.grad(torch.sum(f), X, create_graph=True)[0][:, 1]\n",
    "# print(dx(dx1, X, 1))\n",
    "\n",
    "\n",
    "# inputs = (torch.asarray([1.0, 2.0]), torch.asarray([1.0, 2.0]))\n",
    "# print(inputs)\n",
    "# torch.autograd.functional.jacobian(func, inputs)\n"
   ]
  },
  {
   "cell_type": "code",
   "execution_count": 59,
   "metadata": {},
   "outputs": [
    {
     "name": "stdout",
     "output_type": "stream",
     "text": [
      "(161, 535)\n"
     ]
    },
    {
     "data": {
      "image/png": "[encoded data removed]",
      "text/plain": [
       "<Figure size 360x180 with 2 Axes>"
      ]
     },
     "metadata": {
      "needs_background": "light"
     },
     "output_type": "display_data"
    }
   ],
   "source": [
    "dx, dy = 0.015, 0.05\n",
    "y, x = np.mgrid[slice(-4, 4 + dy, dy),slice(-4, 4 + dx, dx)]\n",
    "z = (1 - x / 3. + x ** 6 + y ** 3) * np.exp(-x ** 2 - y ** 2)\n",
    "z = z[:-1, :-1]\n",
    "z_min, z_max = -np.abs(z).max(), np.abs(z).max()\n",
    "print(y.shape)\n",
    "c = plt.pcolormesh(x, y, z, cmap ='Greens', vmin = z_min, vmax = z_max)\n",
    "plt.colorbar(c)\n",
    "\n",
    "plt.show()"
   ]
  }
 ],
 "metadata": {
  "kernelspec": {
   "display_name": "Python 3.9.9 64-bit",
   "language": "python",
   "name": "python3"
  },
  "language_info": {
   "codemirror_mode": {
    "name": "ipython",
    "version": 3
   },
   "file_extension": ".py",
   "mimetype": "text/x-python",
   "name": "python",
   "nbconvert_exporter": "python",
   "pygments_lexer": "ipython3",
   "version": "3.9.9"
  },
  "orig_nbformat": 4,
  "vscode": {
   "interpreter": {
    "hash": "b4957a3169536379e8f75f7e9878614f7937738a9df979092ace7c23c9fbae51"
   }
  }
 },
 "nbformat": 4,
 "nbformat_minor": 2
}
