{
 "cells": [
  {
   "cell_type": "code",
   "execution_count": 20,
   "metadata": {},
   "outputs": [
    {
     "name": "stdout",
     "output_type": "stream",
     "text": [
      "Using cuda device\n"
     ]
    }
   ],
   "source": [
    "import torch\n",
    "from torch import nn\n",
    "import numpy as np\n",
    "import matplotlib.pyplot as plt\n",
    "from tqdm import tqdm\n",
    "\n",
    "device = \"cuda\" if torch.cuda.is_available() else \"cpu\"\n",
    "print(f\"Using {device} device\")\n",
    "\n",
    "class NN(nn.Module):\n",
    "    def __init__(self):\n",
    "        super(NN, self).__init__()\n",
    "        self.stack = nn.Sequential(\n",
    "            nn.Linear(1, 20),\n",
    "            nn.Tanh(),\n",
    "            nn.Linear(20, 20),\n",
    "            nn.Tanh(),\n",
    "            nn.Linear(20, 20),\n",
    "            nn.Tanh(),\n",
    "            nn.Linear(20, 20),\n",
    "            nn.Tanh(),            \n",
    "            nn.Linear(20, 20),\n",
    "            nn.Tanh(),            \n",
    "            nn.Linear(20, 20),\n",
    "            nn.Tanh(),            \n",
    "            nn.Linear(20, 20),\n",
    "            nn.Tanh(),\n",
    "            nn.Linear(20, 1)\n",
    "        )\n",
    "\n",
    "    def forward(self, x):\n",
    "        return self.stack(x)\n",
    "\n",
    "\n",
    "\n",
    "def ode_loss(input, output):\n",
    "    assert(input.shape == output.shape)\n",
    "    dy = [torch.autograd.grad(out, input, retain_graph=True)[0][i][0] \n",
    "    for i, out in enumerate(output)]\n",
    "    dy = torch.stack(dy)\n",
    "    A = torch.linalg.norm(dy+2*input*output, ord=2)\n",
    "    return A\n",
    "def bound_loss(input, output):\n",
    "    return (input-1)**2"
   ]
  },
  {
   "cell_type": "code",
   "execution_count": 35,
   "metadata": {},
   "outputs": [
    {
     "name": "stdout",
     "output_type": "stream",
     "text": [
      "0 156.6414031982422 0.779477596282959 172.23095703125\n",
      "50 0.2670784294605255 0.989352822303772 20.054134368896484\n",
      "100 0.844959557056427 0.9808109402656555 20.461177825927734\n",
      "150 0.6920511722564697 0.9760192036628723 20.212434768676758\n",
      "200 0.9944251775741577 0.9647908806800842 20.29024314880371\n",
      "250 1.065826177597046 0.9532004594802856 20.12983512878418\n",
      "300 1.7030237913131714 0.9285635352134705 20.274293899536133\n",
      "350 1.2235562801361084 0.8913195729255676 19.04994773864746\n",
      "400 2.440830707550049 0.8053585886955261 18.548002243041992\n",
      "450 4.768689155578613 0.6480932235717773 17.730552673339844\n",
      "500 9.758914947509766 0.4255584478378296 18.270084381103516\n",
      "550 13.683533668518066 0.21903063356876373 18.064146041870117\n",
      "600 18.520263671875 0.09295753389596939 20.379413604736328\n",
      "650 22.752931594848633 0.035191506147384644 23.456762313842773\n",
      "700 23.63161277770996 0.012975804507732391 23.891128540039062\n",
      "750 25.102081298828125 0.004818968009203672 25.198461532592773\n"
     ]
    }
   ],
   "source": [
    "N = 100\n",
    "X = torch.linspace(0, 10, N, requires_grad=True).reshape(N, 1)\n",
    "model = NN()\n",
    "optimizer = torch.optim.Adam(model.parameters(), lr=.001)\n",
    "\n",
    "for e in range(0, 800):\n",
    "    optimizer.zero_grad()\n",
    "    output = model(X)\n",
    "    loss1 = ode_loss(X, output)\n",
    "    output = model(torch.Tensor([0]))\n",
    "    loss2 = bound_loss(output, torch.Tensor([0]))\n",
    "    loss = loss1 + 20*loss2\n",
    "    loss.backward()\n",
    "    optimizer.step()\n",
    "    if e % 50 == 0:\n",
    "        print(e, loss1.item(), loss2.item(), loss.item())"
   ]
  },
  {
   "cell_type": "code",
   "execution_count": 36,
   "metadata": {},
   "outputs": [
    {
     "data": {
      "text/plain": [
       "[<matplotlib.lines.Line2D at 0x1ad1ab4b1c0>]"
      ]
     },
     "execution_count": 36,
     "metadata": {},
     "output_type": "execute_result"
    },
    {
     "data": {
      "image/png": "[encoded data removed]",
      "text/plain": [
       "<Figure size 432x288 with 1 Axes>"
      ]
     },
     "metadata": {
      "needs_background": "light"
     },
     "output_type": "display_data"
    }
   ],
   "source": [
    "x = np.linspace(0, 12, 1000)\n",
    "X_test = torch.linspace(0, 12, 1000).reshape(1000, 1)\n",
    "plt.plot(model(X_test).detach(), color='b')\n",
    "plt.plot(np.exp(-x**2))\n"
   ]
  }
 ],
 "metadata": {
  "kernelspec": {
   "display_name": "Python 3.9.9 64-bit",
   "language": "python",
   "name": "python3"
  },
  "language_info": {
   "codemirror_mode": {
    "name": "ipython",
    "version": 3
   },
   "file_extension": ".py",
   "mimetype": "text/x-python",
   "name": "python",
   "nbconvert_exporter": "python",
   "pygments_lexer": "ipython3",
   "version": "3.9.9"
  },
  "orig_nbformat": 4,
  "vscode": {
   "interpreter": {
    "hash": "b4957a3169536379e8f75f7e9878614f7937738a9df979092ace7c23c9fbae51"
   }
  }
 },
 "nbformat": 4,
 "nbformat_minor": 2
}
