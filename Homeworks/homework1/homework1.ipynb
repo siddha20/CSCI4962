{
 "cells": [
  {
   "cell_type": "markdown",
   "metadata": {},
   "source": [
    "### Task 1\n",
    "I would like to gain insight as to what factors increase the chances of someone\n",
    "purchasing a vehicle. For example I would like to be able to answer the\n",
    "questions like is a twenty year old more likely to buy a car or is a fifty year\n",
    "old? Or gain insight as to whether there a certain salary at which a person is\n",
    "more likely to buy a car? Additionally, I would like to be able to predict the\n",
    "likelihood of someone purchasing a car given some list of features. Logisitic\n",
    "regression is best for this task because I am aiming to find a set of weights\n",
    "which tell the probability of a binary parameter occuring, and purchasing a\n",
    "vehicle is a binary decision (buy or not buy a vehicle).\n"
   ]
  },
  {
   "cell_type": "code",
   "execution_count": 45,
   "metadata": {},
   "outputs": [
    {
     "data": {
      "text/html": [
       "<div>\n",
       "<style scoped>\n",
       "    .dataframe tbody tr th:only-of-type {\n",
       "        vertical-align: middle;\n",
       "    }\n",
       "\n",
       "    .dataframe tbody tr th {\n",
       "        vertical-align: top;\n",
       "    }\n",
       "\n",
       "    .dataframe thead th {\n",
       "        text-align: right;\n",
       "    }\n",
       "</style>\n",
       "<table border=\"1\" class=\"dataframe\">\n",
       "  <thead>\n",
       "    <tr style=\"text-align: right;\">\n",
       "      <th></th>\n",
       "      <th>User ID</th>\n",
       "      <th>Gender</th>\n",
       "      <th>Age</th>\n",
       "      <th>AnnualSalary</th>\n",
       "      <th>Purchased</th>\n",
       "    </tr>\n",
       "  </thead>\n",
       "  <tbody>\n",
       "    <tr>\n",
       "      <th>0</th>\n",
       "      <td>385</td>\n",
       "      <td>Male</td>\n",
       "      <td>35</td>\n",
       "      <td>20000</td>\n",
       "      <td>0</td>\n",
       "    </tr>\n",
       "    <tr>\n",
       "      <th>1</th>\n",
       "      <td>681</td>\n",
       "      <td>Male</td>\n",
       "      <td>40</td>\n",
       "      <td>43500</td>\n",
       "      <td>0</td>\n",
       "    </tr>\n",
       "    <tr>\n",
       "      <th>2</th>\n",
       "      <td>353</td>\n",
       "      <td>Male</td>\n",
       "      <td>49</td>\n",
       "      <td>74000</td>\n",
       "      <td>0</td>\n",
       "    </tr>\n",
       "    <tr>\n",
       "      <th>3</th>\n",
       "      <td>895</td>\n",
       "      <td>Male</td>\n",
       "      <td>40</td>\n",
       "      <td>107500</td>\n",
       "      <td>1</td>\n",
       "    </tr>\n",
       "    <tr>\n",
       "      <th>4</th>\n",
       "      <td>661</td>\n",
       "      <td>Male</td>\n",
       "      <td>25</td>\n",
       "      <td>79000</td>\n",
       "      <td>0</td>\n",
       "    </tr>\n",
       "    <tr>\n",
       "      <th>...</th>\n",
       "      <td>...</td>\n",
       "      <td>...</td>\n",
       "      <td>...</td>\n",
       "      <td>...</td>\n",
       "      <td>...</td>\n",
       "    </tr>\n",
       "    <tr>\n",
       "      <th>995</th>\n",
       "      <td>863</td>\n",
       "      <td>Male</td>\n",
       "      <td>38</td>\n",
       "      <td>59000</td>\n",
       "      <td>0</td>\n",
       "    </tr>\n",
       "    <tr>\n",
       "      <th>996</th>\n",
       "      <td>800</td>\n",
       "      <td>Female</td>\n",
       "      <td>47</td>\n",
       "      <td>23500</td>\n",
       "      <td>0</td>\n",
       "    </tr>\n",
       "    <tr>\n",
       "      <th>997</th>\n",
       "      <td>407</td>\n",
       "      <td>Female</td>\n",
       "      <td>28</td>\n",
       "      <td>138500</td>\n",
       "      <td>1</td>\n",
       "    </tr>\n",
       "    <tr>\n",
       "      <th>998</th>\n",
       "      <td>299</td>\n",
       "      <td>Female</td>\n",
       "      <td>48</td>\n",
       "      <td>134000</td>\n",
       "      <td>1</td>\n",
       "    </tr>\n",
       "    <tr>\n",
       "      <th>999</th>\n",
       "      <td>687</td>\n",
       "      <td>Female</td>\n",
       "      <td>44</td>\n",
       "      <td>73500</td>\n",
       "      <td>0</td>\n",
       "    </tr>\n",
       "  </tbody>\n",
       "</table>\n",
       "<p>1000 rows × 5 columns</p>\n",
       "</div>"
      ],
      "text/plain": [
       "     User ID  Gender  Age  AnnualSalary  Purchased\n",
       "0        385    Male   35         20000          0\n",
       "1        681    Male   40         43500          0\n",
       "2        353    Male   49         74000          0\n",
       "3        895    Male   40        107500          1\n",
       "4        661    Male   25         79000          0\n",
       "..       ...     ...  ...           ...        ...\n",
       "995      863    Male   38         59000          0\n",
       "996      800  Female   47         23500          0\n",
       "997      407  Female   28        138500          1\n",
       "998      299  Female   48        134000          1\n",
       "999      687  Female   44         73500          0\n",
       "\n",
       "[1000 rows x 5 columns]"
      ]
     },
     "execution_count": 45,
     "metadata": {},
     "output_type": "execute_result"
    }
   ],
   "source": [
    "import numpy as np\n",
    "import pandas as pd\n",
    "import matplotlib.pyplot as plt\n",
    "import torch\n",
    "\n",
    "df = pd.read_csv(\"car_data.csv\")\n",
    "df\n"
   ]
  },
  {
   "cell_type": "markdown",
   "metadata": {},
   "source": [
    "### Task 2\n",
    "The dataset for this problem comes from here:\n",
    "https://www.kaggle.com/datasets/gabrielsantello/cars-purchase-decision-dataset.\n",
    "Below, we can see that the data contains a unique user identification, gender,\n",
    "age, annual salary, and whether or not the car was purchased. Columns two to\n",
    "four  will be used as features, and the last column will be used as a label. We\n",
    "do not use column one, the user identification, because it does not provide any\n",
    "useful meaning for prediction.\n",
    "\n",
    "To ready the data for analysis, the gender column needs to be relabelled as\n",
    "numbers: a male is 0 and a female is 1. Additionally, we exclude the first\n",
    "column as mentioned above. According to the data, 48.4 percent are male, which\n",
    "is a fairly even split. Also, the salary and age values covers a wide range,\n",
    "looking at the box plots below. In conclusion, the data being used is of good\n",
    "quality, and any conclusion from the analysis is likely indicitive of the\n",
    "overall population. "
   ]
  },
  {
   "cell_type": "code",
   "execution_count": 3,
   "metadata": {},
   "outputs": [
    {
     "name": "stdout",
     "output_type": "stream",
     "text": [
      "Percent Male: 48.4%\n",
      "Salary min, max, mean, std: 15000, 152500, 72689.0, 34471.09338271706\n",
      "Age min, max, mean, std: 18, 63, 40.106, 10.701717806034694\n"
     ]
    },
    {
     "data": {
      "image/png": "[encoded data removed]",
      "text/plain": [
       "<Figure size 432x288 with 1 Axes>"
      ]
     },
     "metadata": {
      "needs_background": "light"
     },
     "output_type": "display_data"
    },
    {
     "data": {
      "image/png": "[encoded data removed]",
      "text/plain": [
       "<Figure size 432x288 with 1 Axes>"
      ]
     },
     "metadata": {
      "needs_background": "light"
     },
     "output_type": "display_data"
    }
   ],
   "source": [
    "print(\"Percent Male: {}%\".format(np.sum(np.asarray([df[\"Gender\"] == \"Male\"]) * 1)/10))\n",
    "print(\"Salary min, max, mean, std: {}, {}, {}, {}\".format(np.min(df[\"AnnualSalary\"]), np.max(df[\"AnnualSalary\"]), np.mean(df[\"AnnualSalary\"]), np.std(df[\"AnnualSalary\"])))\n",
    "print(\"Age min, max, mean, std: {}, {}, {}, {}\".format(np.min(df[\"Age\"]), np.max(df[\"Age\"]), np.mean(df[\"Age\"]), np.std(df[\"Age\"])))\n",
    "\n",
    "plt.figure(1)\n",
    "plt.title(\"Box Plot for Salary\")\n",
    "plt.boxplot(df[\"AnnualSalary\"])\n",
    "plt.figure(2)\n",
    "plt.title(\"Box Plot for Age\")\n",
    "plt.boxplot(df[\"Age\"])\n",
    "plt.show()"
   ]
  },
  {
   "cell_type": "markdown",
   "metadata": {},
   "source": [
    "### Task 3\n",
    "I decided to implement normal gradient descent and stochastic gradient descent.\n",
    "I used the follow cost function and derivatives. For the stochastic gradient\n",
    "descent, instead of summing up all elements and averaging, I simply summed one\n",
    "element. \n",
    "\n",
    "In the following formulas, $Y$ is whether a car is purchased or not.\n",
    "$X$ is equal to a $(3\\times 1000)$ matrix containing the age, gender, and salary data. \n",
    "Lastly, $A$ = $\\sigma(X)$.\n",
    "\n",
    "$L = -\\frac{1}{n}\\sum_{i=1}^{m}(y^{(i)}\\log(a^{(i)})+(1-y^{(i)})\\log(1-a^{(i)}))$\n",
    "\n",
    "$\\frac{\\partial L}{\\partial w} = \\frac{1}{n}X(A-Y)^T$\n",
    "\n",
    "$\\frac{\\partial L}{\\partial b} = \\frac{1}{n} \\sum_{i=1}^n (a^{(i)}-y^{(i)})$"
   ]
  },
  {
   "cell_type": "code",
   "execution_count": 161,
   "metadata": {},
   "outputs": [],
   "source": [
    "def sigmoid(x):\n",
    "    return 1/(1+np.exp(-x))\n",
    "\n",
    "def norm(x):\n",
    "    return (x - np.min(x))/(np.max(x) - np.min(x))\n",
    "\n",
    "age =norm( np.asarray(df[\"Age\"], dtype=np.float64))\n",
    "gen = norm(np.asarray([df[\"Gender\"] == \"Female\"], dtype=np.float64) * 1)\n",
    "salary = norm(np.asarray(df[\"AnnualSalary\"], dtype=np.float64))\n",
    "P = np.asarray(df[\"Purchased\"], dtype=np.float64)\n",
    "N = np.size(P)\n",
    "P = P.reshape(1, N)\n",
    "lr = .001\n",
    "sdg_lr = .0001\n",
    "\n",
    "w = np.ones(shape=(3,1)) * .5\n",
    "w_sgd = np.ones(shape=(3,1)) * .5\n",
    "\n",
    "b = np.ones(shape=(1,1))\n",
    "X = np.vstack((age, gen, salary))\n",
    "\n",
    "# gradient descent\n",
    "err = []\n",
    "for n in range(0, 5000):\n",
    "    A = sigmoid(np.dot(w.T,X) + b)\n",
    "    dw = np.dot(X, (A-P).T)/N\n",
    "    db = np.sum(A-P)/N\n",
    "    w -= lr*dw\n",
    "    b -= lr*db\n",
    "    cost = -1/N * np.sum(P * np.log(A) + (1-P) * (np.log(1-A)))\n",
    "    err.append(np.abs(np.sum(np.asarray([sigmoid(np.dot(w.T,X) + b) > .5], dtype=np.float64)) - np.sum(P))/N)\n",
    "\n",
    "# stochastic gradient descent\n",
    "sgd_err = []\n",
    "for n in range(0, 50000):\n",
    "    ind = np.random.randint(1, N-1)\n",
    "    A = sigmoid(np.dot(w.T,X[:, ind:ind+1]) + b)\n",
    "    dw = np.dot(X[:, ind:ind+1], (A-P[:, ind:ind+1]).T)\n",
    "    db = np.sum(A-P[:, ind:ind+1])\n",
    "    w -= lr*dw\n",
    "    b -= lr*db\n",
    "    cost = -1 * np.sum(P[:, ind:ind+1] * np.log(A) + (1-P[:, ind:ind+1]) * (np.log(1-A)))\n",
    "    sgd_err.append(np.abs(np.sum(np.asarray([sigmoid(np.dot(w.T,X) + b) > .5], dtype=np.float64)) - np.sum(P))/N)\n",
    "\n"
   ]
  },
  {
   "cell_type": "code",
   "execution_count": 148,
   "metadata": {},
   "outputs": [
    {
     "name": "stdout",
     "output_type": "stream",
     "text": [
      "gradient descent err 8.5%\n",
      "sgd err 13.5%\n"
     ]
    },
    {
     "data": {
      "image/png": "[encoded data removed]",
      "text/plain": [
       "<Figure size 432x288 with 1 Axes>"
      ]
     },
     "metadata": {
      "needs_background": "light"
     },
     "output_type": "display_data"
    },
    {
     "data": {
      "image/png": "[encoded data removed]",
      "text/plain": [
       "<Figure size 432x288 with 1 Axes>"
      ]
     },
     "metadata": {
      "needs_background": "light"
     },
     "output_type": "display_data"
    }
   ],
   "source": [
    "plt.figure(3)\n",
    "plt.title(\"gradient descent\")\n",
    "plt.plot(err)\n",
    "print(\"gradient descent err {}%\".format(err[-1]*100))\n",
    "plt.figure(4)\n",
    "plt.title(\"sgd\")\n",
    "plt.plot(sgd_err)\n",
    "print(\"sgd err {}%\".format(sgd_err[-1]*100))"
   ]
  },
  {
   "cell_type": "markdown",
   "metadata": {},
   "source": [
    "### Task 4\n"
   ]
  },
  {
   "cell_type": "code",
   "execution_count": 163,
   "metadata": {},
   "outputs": [],
   "source": [
    "class LR(torch.nn.Module):\n",
    "    def __init__(self, inputs):\n",
    "        super().__init__()\n",
    "        self.linear = torch.nn.Linear(inputs, 1)\n",
    "\n",
    "    def forward(self, x):\n",
    "        return torch.sigmoid(self.linear(x))\n",
    "\n",
    "sgd_model = LR(3)\n",
    "ada_model = LR(3)\n",
    "\n",
    "cost = torch.nn.BCELoss()\n",
    "X_train = torch.Tensor(X.T)\n",
    "Y_train = torch.Tensor(P.T)\n",
    "\n",
    "optimzer1 = torch.optim.SGD(sgd_model.parameters(), lr=.01, momentum=.9)\n",
    "optimzer2 = torch.optim.Adadelta(ada_model.parameters(), lr=.01)\n",
    "\n",
    "sgdm_err = []\n",
    "ada_err = []\n",
    "for i in range(0, 10000):\n",
    "    optimzer1.zero_grad()\n",
    "    loss = cost(sgd_model(X_train), Y_train)\n",
    "    loss.backward()\n",
    "    optimzer1.step()\n",
    "    sgdm_err.append(np.abs(np.sum(np.asarray([sgd_model(X_train).detach().numpy() > .5], dtype=np.float64)) - np.sum(P))/N)\n",
    "\n",
    "    optimzer2.zero_grad()\n",
    "    loss = cost(ada_model(X_train), Y_train)\n",
    "    loss.backward()\n",
    "    optimzer2.step()\n",
    "    ada_err.append(np.abs(np.sum(np.asarray([ada_model(X_train).detach().numpy() > .5], dtype=np.float64)) - np.sum(P))/N)\n",
    "\n",
    "plt.figure(5)\n",
    "plt.title(\"SGD with momentum\")\n",
    "plt.plot(sgdm_err)\n",
    "print(\"sgd with momentum err {}%\".format(sgdm_err[-1]*100))\n",
    "\n",
    "plt.figure(6)\n",
    "plt.title(\"Adadelta\")\n",
    "plt.plot(ada_err)\n",
    "print(\"adadelta err {}%\".format(ada_err[-1]*100))"
   ]
  }
 ],
 "metadata": {
  "kernelspec": {
   "display_name": "Python 3.9.9 64-bit",
   "language": "python",
   "name": "python3"
  },
  "language_info": {
   "codemirror_mode": {
    "name": "ipython",
    "version": 3
   },
   "file_extension": ".py",
   "mimetype": "text/x-python",
   "name": "python",
   "nbconvert_exporter": "python",
   "pygments_lexer": "ipython3",
   "version": "3.9.9"
  },
  "orig_nbformat": 4,
  "vscode": {
   "interpreter": {
    "hash": "b4957a3169536379e8f75f7e9878614f7937738a9df979092ace7c23c9fbae51"
   }
  }
 },
 "nbformat": 4,
 "nbformat_minor": 2
}
