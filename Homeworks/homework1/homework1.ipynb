{
 "cells": [
  {
   "cell_type": "markdown",
   "metadata": {},
   "source": [
    "### Task 1\n",
    "I would like to gain insight as to what factors increase the chances of someone\n",
    "purchasing a vehicle. For example I would like to be able to answer the\n",
    "questions like is a twenty year old more likely to buy a car or is a fifty year\n",
    "old? Or gain insight as to whether there a certain salary at which a person is\n",
    "more likely to buy a car? Additionally, I would like to be able to predict the\n",
    "likelihood of someone purchasing a car given some list of features. Logisitic\n",
    "regression is best for this task because I am aiming to find a set of weights\n",
    "which tell the probability of a binary paramters (buying or not buying a\n",
    "vehicle) being 1 or 0.\n"
   ]
  },
  {
   "cell_type": "markdown",
   "metadata": {},
   "source": [
    "### Task 2\n"
   ]
  },
  {
   "cell_type": "markdown",
   "metadata": {},
   "source": [
    "### Task 3"
   ]
  },
  {
   "cell_type": "markdown",
   "metadata": {},
   "source": [
    "### Task 4"
   ]
  }
 ],
 "metadata": {
  "kernelspec": {
   "display_name": "Python 3.9.9 64-bit",
   "language": "python",
   "name": "python3"
  },
  "language_info": {
   "name": "python",
   "version": "3.9.9"
  },
  "orig_nbformat": 4,
  "vscode": {
   "interpreter": {
    "hash": "b4957a3169536379e8f75f7e9878614f7937738a9df979092ace7c23c9fbae51"
   }
  }
 },
 "nbformat": 4,
 "nbformat_minor": 2
}
