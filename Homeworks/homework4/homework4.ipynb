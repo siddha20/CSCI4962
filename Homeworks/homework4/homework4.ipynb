{
 "cells": [
  {
   "cell_type": "code",
   "execution_count": null,
   "metadata": {},
   "outputs": [],
   "source": []
  }
 ],
 "metadata": {
  "kernelspec": {
   "display_name": "Python 3.10.1 64-bit",
   "language": "python",
   "name": "python3"
  },
  "language_info": {
   "name": "python",
   "version": "3.10.1"
  },
  "orig_nbformat": 4,
  "vscode": {
   "interpreter": {
    "hash": "6ec2d6de8a750b31b2defdd013e287126c38da7c2ecf9f9e3a880f18e13978ea"
   }
  }
 },
 "nbformat": 4,
 "nbformat_minor": 2
}
