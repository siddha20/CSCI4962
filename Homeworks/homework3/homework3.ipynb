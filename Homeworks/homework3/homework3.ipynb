{
 "cells": [
  {
   "cell_type": "markdown",
   "metadata": {},
   "source": [
    "### Task 1\n",
    "\n",
    "The deep learning framework I will be using is PyTorch. PyTorch and deep\n",
    "learning frameworks generally utilize GPUs to speed up the computation of\n",
    "matrix operations (neural networks are essentially a collection of matrices).\n",
    "Additionally, these frameworks have front-ends allowing users to declare what\n",
    "kind of feed-forward network model they want. Moreover, they also contain a\n",
    "back-end to compute the gradient according to some cost function, which the\n",
    "user can also pick. \n",
    "\n",
    "The only resource I need is https://pytorch.org/docs/stable/index.html."
   ]
  },
  {
   "cell_type": "markdown",
   "metadata": {},
   "source": [
    "### Task 2"
   ]
  },
  {
   "cell_type": "markdown",
   "metadata": {},
   "source": [
    "### Task 3"
   ]
  },
  {
   "cell_type": "markdown",
   "metadata": {},
   "source": [
    "### Task 4"
   ]
  }
 ],
 "metadata": {
  "kernelspec": {
   "display_name": "Python 3.10.1 64-bit",
   "language": "python",
   "name": "python3"
  },
  "language_info": {
   "name": "python",
   "version": "3.10.1"
  },
  "orig_nbformat": 4,
  "vscode": {
   "interpreter": {
    "hash": "6ec2d6de8a750b31b2defdd013e287126c38da7c2ecf9f9e3a880f18e13978ea"
   }
  }
 },
 "nbformat": 4,
 "nbformat_minor": 2
}
