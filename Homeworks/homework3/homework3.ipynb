{
 "cells": [
  {
   "cell_type": "markdown",
   "metadata": {},
   "source": [
    "### Task 1\n",
    "\n",
    "**Clearly explain why you needed a particular resource for implementing a 2-layer\n",
    "Neural Network (NN):**\n",
    "\n",
    "The deep learning framework I will be using is PyTorch.\n",
    "PyTorch and deep learning frameworks generally utilize GPUs to speed up the\n",
    "computation of matrix operations (neural networks are essentially a collection\n",
    "of matrices). Additionally, these frameworks have front-ends allowing users to\n",
    "declare what kind of feed-forward network model they want. Moreover, they also\n",
    "contain a back-end to compute the gradient according to some cost function,\n",
    "which the user can also pick.\n",
    "\n",
    "To implement a 2-layer NN, I use PyTorch mainly for the reasons mentioned\n",
    "above. I can implement the 2 layer using the PyTorch modules (which uses\n",
    "tensors). Also, I can train and optimize this 2-layer NN using PyTorch.\n",
    "Specifically, I will use Dataset and DataLoader from PyTorch, which is just a\n",
    "wrapper around my datasets. Additionally, I will use nn.Module, which is where\n",
    "I can design the network itself. Lastly, I will use functions like nn.BCELoss()\n",
    "and torch.optim.Adam() as my loss function and optimizer. \n",
    "\n",
    "The only resource I need is https://pytorch.org/docs/stable/index.html because\n",
    "it includes all the documentation for pytorch."
   ]
  },
  {
   "cell_type": "markdown",
   "metadata": {},
   "source": [
    "### Task 2\n",
    "\n",
    "The dataset I will be using comes from here:\n",
    "https://www.kaggle.com/datasets/gauravtopre/bank-customer-churn-dataset. The\n",
    "goal of this data set is to predict the customer churn for a bank. The dataset\n",
    "has 10000 data entries, which is a relatively large amount; thus, suitable for\n",
    "a deep learning model. \n"
   ]
  },
  {
   "cell_type": "markdown",
   "metadata": {},
   "source": [
    "**1. Exploratory Data Analysis**"
   ]
  },
  {
   "cell_type": "code",
   "execution_count": 55,
   "metadata": {},
   "outputs": [
    {
     "name": "stdout",
     "output_type": "stream",
     "text": [
      "Using cpu device\n"
     ]
    },
    {
     "data": {
      "text/html": [
       "<div>\n",
       "<style scoped>\n",
       "    .dataframe tbody tr th:only-of-type {\n",
       "        vertical-align: middle;\n",
       "    }\n",
       "\n",
       "    .dataframe tbody tr th {\n",
       "        vertical-align: top;\n",
       "    }\n",
       "\n",
       "    .dataframe thead th {\n",
       "        text-align: right;\n",
       "    }\n",
       "</style>\n",
       "<table border=\"1\" class=\"dataframe\">\n",
       "  <thead>\n",
       "    <tr style=\"text-align: right;\">\n",
       "      <th></th>\n",
       "      <th>customer_id</th>\n",
       "      <th>credit_score</th>\n",
       "      <th>country</th>\n",
       "      <th>gender</th>\n",
       "      <th>age</th>\n",
       "      <th>tenure</th>\n",
       "      <th>balance</th>\n",
       "      <th>products_number</th>\n",
       "      <th>credit_card</th>\n",
       "      <th>active_member</th>\n",
       "      <th>estimated_salary</th>\n",
       "      <th>churn</th>\n",
       "    </tr>\n",
       "  </thead>\n",
       "  <tbody>\n",
       "    <tr>\n",
       "      <th>0</th>\n",
       "      <td>15634602</td>\n",
       "      <td>619</td>\n",
       "      <td>France</td>\n",
       "      <td>Female</td>\n",
       "      <td>42</td>\n",
       "      <td>2</td>\n",
       "      <td>0.00</td>\n",
       "      <td>1</td>\n",
       "      <td>1</td>\n",
       "      <td>1</td>\n",
       "      <td>101348.88</td>\n",
       "      <td>1</td>\n",
       "    </tr>\n",
       "    <tr>\n",
       "      <th>1</th>\n",
       "      <td>15647311</td>\n",
       "      <td>608</td>\n",
       "      <td>Spain</td>\n",
       "      <td>Female</td>\n",
       "      <td>41</td>\n",
       "      <td>1</td>\n",
       "      <td>83807.86</td>\n",
       "      <td>1</td>\n",
       "      <td>0</td>\n",
       "      <td>1</td>\n",
       "      <td>112542.58</td>\n",
       "      <td>0</td>\n",
       "    </tr>\n",
       "    <tr>\n",
       "      <th>2</th>\n",
       "      <td>15619304</td>\n",
       "      <td>502</td>\n",
       "      <td>France</td>\n",
       "      <td>Female</td>\n",
       "      <td>42</td>\n",
       "      <td>8</td>\n",
       "      <td>159660.80</td>\n",
       "      <td>3</td>\n",
       "      <td>1</td>\n",
       "      <td>0</td>\n",
       "      <td>113931.57</td>\n",
       "      <td>1</td>\n",
       "    </tr>\n",
       "    <tr>\n",
       "      <th>3</th>\n",
       "      <td>15701354</td>\n",
       "      <td>699</td>\n",
       "      <td>France</td>\n",
       "      <td>Female</td>\n",
       "      <td>39</td>\n",
       "      <td>1</td>\n",
       "      <td>0.00</td>\n",
       "      <td>2</td>\n",
       "      <td>0</td>\n",
       "      <td>0</td>\n",
       "      <td>93826.63</td>\n",
       "      <td>0</td>\n",
       "    </tr>\n",
       "    <tr>\n",
       "      <th>4</th>\n",
       "      <td>15737888</td>\n",
       "      <td>850</td>\n",
       "      <td>Spain</td>\n",
       "      <td>Female</td>\n",
       "      <td>43</td>\n",
       "      <td>2</td>\n",
       "      <td>125510.82</td>\n",
       "      <td>1</td>\n",
       "      <td>1</td>\n",
       "      <td>1</td>\n",
       "      <td>79084.10</td>\n",
       "      <td>0</td>\n",
       "    </tr>\n",
       "    <tr>\n",
       "      <th>...</th>\n",
       "      <td>...</td>\n",
       "      <td>...</td>\n",
       "      <td>...</td>\n",
       "      <td>...</td>\n",
       "      <td>...</td>\n",
       "      <td>...</td>\n",
       "      <td>...</td>\n",
       "      <td>...</td>\n",
       "      <td>...</td>\n",
       "      <td>...</td>\n",
       "      <td>...</td>\n",
       "      <td>...</td>\n",
       "    </tr>\n",
       "    <tr>\n",
       "      <th>9995</th>\n",
       "      <td>15606229</td>\n",
       "      <td>771</td>\n",
       "      <td>France</td>\n",
       "      <td>Male</td>\n",
       "      <td>39</td>\n",
       "      <td>5</td>\n",
       "      <td>0.00</td>\n",
       "      <td>2</td>\n",
       "      <td>1</td>\n",
       "      <td>0</td>\n",
       "      <td>96270.64</td>\n",
       "      <td>0</td>\n",
       "    </tr>\n",
       "    <tr>\n",
       "      <th>9996</th>\n",
       "      <td>15569892</td>\n",
       "      <td>516</td>\n",
       "      <td>France</td>\n",
       "      <td>Male</td>\n",
       "      <td>35</td>\n",
       "      <td>10</td>\n",
       "      <td>57369.61</td>\n",
       "      <td>1</td>\n",
       "      <td>1</td>\n",
       "      <td>1</td>\n",
       "      <td>101699.77</td>\n",
       "      <td>0</td>\n",
       "    </tr>\n",
       "    <tr>\n",
       "      <th>9997</th>\n",
       "      <td>15584532</td>\n",
       "      <td>709</td>\n",
       "      <td>France</td>\n",
       "      <td>Female</td>\n",
       "      <td>36</td>\n",
       "      <td>7</td>\n",
       "      <td>0.00</td>\n",
       "      <td>1</td>\n",
       "      <td>0</td>\n",
       "      <td>1</td>\n",
       "      <td>42085.58</td>\n",
       "      <td>1</td>\n",
       "    </tr>\n",
       "    <tr>\n",
       "      <th>9998</th>\n",
       "      <td>15682355</td>\n",
       "      <td>772</td>\n",
       "      <td>Germany</td>\n",
       "      <td>Male</td>\n",
       "      <td>42</td>\n",
       "      <td>3</td>\n",
       "      <td>75075.31</td>\n",
       "      <td>2</td>\n",
       "      <td>1</td>\n",
       "      <td>0</td>\n",
       "      <td>92888.52</td>\n",
       "      <td>1</td>\n",
       "    </tr>\n",
       "    <tr>\n",
       "      <th>9999</th>\n",
       "      <td>15628319</td>\n",
       "      <td>792</td>\n",
       "      <td>France</td>\n",
       "      <td>Female</td>\n",
       "      <td>28</td>\n",
       "      <td>4</td>\n",
       "      <td>130142.79</td>\n",
       "      <td>1</td>\n",
       "      <td>1</td>\n",
       "      <td>0</td>\n",
       "      <td>38190.78</td>\n",
       "      <td>0</td>\n",
       "    </tr>\n",
       "  </tbody>\n",
       "</table>\n",
       "<p>10000 rows × 12 columns</p>\n",
       "</div>"
      ],
      "text/plain": [
       "      customer_id  credit_score  country  gender  age  tenure    balance  \\\n",
       "0        15634602           619   France  Female   42       2       0.00   \n",
       "1        15647311           608    Spain  Female   41       1   83807.86   \n",
       "2        15619304           502   France  Female   42       8  159660.80   \n",
       "3        15701354           699   France  Female   39       1       0.00   \n",
       "4        15737888           850    Spain  Female   43       2  125510.82   \n",
       "...           ...           ...      ...     ...  ...     ...        ...   \n",
       "9995     15606229           771   France    Male   39       5       0.00   \n",
       "9996     15569892           516   France    Male   35      10   57369.61   \n",
       "9997     15584532           709   France  Female   36       7       0.00   \n",
       "9998     15682355           772  Germany    Male   42       3   75075.31   \n",
       "9999     15628319           792   France  Female   28       4  130142.79   \n",
       "\n",
       "      products_number  credit_card  active_member  estimated_salary  churn  \n",
       "0                   1            1              1         101348.88      1  \n",
       "1                   1            0              1         112542.58      0  \n",
       "2                   3            1              0         113931.57      1  \n",
       "3                   2            0              0          93826.63      0  \n",
       "4                   1            1              1          79084.10      0  \n",
       "...               ...          ...            ...               ...    ...  \n",
       "9995                2            1              0          96270.64      0  \n",
       "9996                1            1              1         101699.77      0  \n",
       "9997                1            0              1          42085.58      1  \n",
       "9998                2            1              0          92888.52      1  \n",
       "9999                1            1              0          38190.78      0  \n",
       "\n",
       "[10000 rows x 12 columns]"
      ]
     },
     "execution_count": 55,
     "metadata": {},
     "output_type": "execute_result"
    }
   ],
   "source": [
    "import numpy as np\n",
    "import pandas as pd\n",
    "import matplotlib.pyplot as plt\n",
    "import torch\n",
    "\n",
    "device = \"cuda\" if torch.cuda.is_available() else \"cpu\"\n",
    "print(f\"Using {device} device\")\n",
    "\n",
    "df = pd.read_csv(\"bank_churn_data.csv\")\n",
    "df"
   ]
  },
  {
   "cell_type": "markdown",
   "metadata": {},
   "source": [
    "Looking at the table above, we can see that the data set includes factors such\n",
    "as credit score, country, gender, age, balance, and salary. These factors will\n",
    "be used in the deep learning model. Some factors are not used on purpose so\n",
    "that the input parameters to the model can be more general. However, this might\n",
    "be changed later on after evaluating the results. \n",
    "\n",
    "Looking below at the statistical breakdown of the data, we can see that the\n",
    "dataset is nice and balanced: the male-to-female ratio is almost one-half and\n",
    "there is a wide range for salary, credit score, and age. The only thing lacking\n",
    "is the countries because there are only 3: France, Germany, and Spain. However,\n",
    "if this model is used only for banks in those countries, then it would not be\n",
    "an issue. "
   ]
  },
  {
   "cell_type": "code",
   "execution_count": 56,
   "metadata": {},
   "outputs": [
    {
     "name": "stdout",
     "output_type": "stream",
     "text": [
      "(10000, 6) (10000, 1)\n",
      "age mean: 38.9218, std: 10.487282048271611\n",
      "credit_score mean: 650.5288, std: 96.64846595037089\n",
      "salary mean: 100090.239881, std: 57507.617221165565\n",
      "percent male: 0.5457\n",
      "countries: 3\n"
     ]
    },
    {
     "data": {
      "image/png": "[encoded data removed]",
      "text/plain": [
       "<Figure size 432x288 with 1 Axes>"
      ]
     },
     "metadata": {
      "needs_background": "light"
     },
     "output_type": "display_data"
    },
    {
     "data": {
      "image/png": "[encoded data removed]",
      "text/plain": [
       "<Figure size 432x288 with 1 Axes>"
      ]
     },
     "metadata": {
      "needs_background": "light"
     },
     "output_type": "display_data"
    }
   ],
   "source": [
    "def norm(x):\n",
    "    return (x - np.min(x))/(np.max(x) - np.min(x))\n",
    "\n",
    "gender = norm(np.asarray([df[\"gender\"] == \"Male\"], dtype=np.float64))\n",
    "credit_score = norm(np.asarray(df[\"credit_score\"], dtype=np.float64))\n",
    "age = norm(np.asarray(df[\"age\"], dtype=np.float64))\n",
    "balance = norm(np.asarray(df[\"balance\"], dtype=np.float64))\n",
    "credit_score = norm(np.asarray(df[\"credit_score\"], dtype=np.float64))\n",
    "salary = norm(np.asarray(df[\"estimated_salary\"], dtype=np.float64))\n",
    "\n",
    "country_dict = {}\n",
    "id = 0\n",
    "for c in df[\"country\"]:\n",
    "    if not c in country_dict.keys():\n",
    "        id += 1\n",
    "        country_dict[c] = id\n",
    "countries = norm(np.asarray([country_dict[c] for c in df[\"country\"]], dtype=np.float64))\n",
    "\n",
    "bank_data = np.vstack((credit_score, countries, gender, age, balance, salary)).T\n",
    "bank_churn = np.asarray([df[\"churn\"]], dtype=np.float64).T\n",
    "print(bank_data.shape, bank_churn.shape)\n",
    "\n",
    "print(\"age mean: {}, std: {}\".format(np.mean(df[\"age\"]), np.std(df[\"age\"])))\n",
    "print(\"credit_score mean: {}, std: {}\".format(np.mean(df[\"credit_score\"]), np.std(df[\"credit_score\"])))\n",
    "print(\"salary mean: {}, std: {}\".format(np.mean(df[\"estimated_salary\"]), np.std(df[\"estimated_salary\"])))\n",
    "print(\"percent male: {}\".format(np.mean(gender)))\n",
    "print(\"countries: {}\".format(len(country_dict)))\n",
    "\n",
    "plt.figure(1)\n",
    "plt.title(\"Box Plot for Age\")\n",
    "plt.boxplot(df[\"age\"])\n",
    "plt.figure(2)\n",
    "plt.title(\"Box Plot for Salary\")\n",
    "plt.boxplot(df[\"estimated_salary\"])\n",
    "plt.show()"
   ]
  },
  {
   "cell_type": "markdown",
   "metadata": {},
   "source": [
    "**2. Perform a train-dev-test split**\n",
    "\n",
    "Below, I split the training data into train, validation, and test sets.\n",
    "Additionally, I also create a BasicLoader class, which is just a basic\n",
    "dataloader. That is then applied to all the datasets. "
   ]
  },
  {
   "cell_type": "code",
   "execution_count": 57,
   "metadata": {},
   "outputs": [],
   "source": [
    "from torch.utils.data import Dataset, DataLoader\n",
    "from sklearn.model_selection import train_test_split\n",
    "\n",
    "class BasicLoader(Dataset):\n",
    "   def __init__(self, x, y):\n",
    "      self.X = torch.Tensor(x)\n",
    "      self.Y = torch.Tensor(y)\n",
    "      assert(self.X.shape[0] == self.Y.shape[0])\n",
    "\n",
    "   def __len__(self):\n",
    "      return self.X.shape[0]\n",
    "      \n",
    "   def __getitem__(self, index):\n",
    "      return self.X[index], self.Y[index]\n",
    "\n",
    "\n",
    "# split data into 50% train 25% val 25% test\n",
    "train_bank_data, test_bank_data, train_bank_churn, test_bank_churn = \\\n",
    "   train_test_split(bank_data, bank_churn, test_size=.25, random_state=30)\n",
    "train_bank_data, val_bank_data, train_bank_churn, val_bank_churn = \\\n",
    "   train_test_split(train_bank_data, train_bank_churn, test_size=.3333, random_state=30)\n",
    "\n",
    "train_data_set = BasicLoader(train_bank_data, train_bank_churn)\n",
    "val_data_set = BasicLoader(val_bank_data, val_bank_churn)\n",
    "test_data_set = BasicLoader(test_bank_data, test_bank_churn)\n",
    "\n",
    "train_data_loader = DataLoader(train_data_set, batch_size=100, shuffle=True)\n",
    "val_data_loader = DataLoader(val_data_set, batch_size=100, shuffle=True)\n",
    "test_data_loader = DataLoader(test_data_set, batch_size=100, shuffle=True)"
   ]
  },
  {
   "cell_type": "markdown",
   "metadata": {},
   "source": [
    "**3. Implement forward propagation**\n",
    "\n",
    "Below, I implement the network and forward propogation. The NN class takes two\n",
    "parameters which are the size of the inner 2 layers. These are the\n",
    "hyperparameters for the network."
   ]
  },
  {
   "cell_type": "code",
   "execution_count": 95,
   "metadata": {},
   "outputs": [],
   "source": [
    "from torch import nn \n",
    "\n",
    "class NN(nn.Module):\n",
    "    def __init__(self, hl1, hl2):\n",
    "        super(NN, self).__init__()\n",
    "        self.linear_relu_stack = nn.Sequential(\n",
    "            nn.Linear(6, hl1),\n",
    "            nn.ReLU(),\n",
    "            nn.Linear(hl1, hl2),\n",
    "            nn.ReLU(),\n",
    "            nn.Linear(hl2, 1),\n",
    "            nn.Sigmoid()\n",
    "        )\n",
    "\n",
    "    def forward(self, x):\n",
    "        return self.linear_relu_stack(x)\n",
    "\n",
    "model = NN(200, 200).to(device)\n",
    "epochs = 500\n",
    "learning_rate = .001"
   ]
  },
  {
   "cell_type": "markdown",
   "metadata": {},
   "source": [
    "**4. Compute the final cost function.** \n",
    "\n",
    "Below, I implement the cost function that will be used. In PyTorch, it is just\n",
    "one line. I am using binary cross entropy loss because the take is a binary\n",
    "classification task."
   ]
  },
  {
   "cell_type": "code",
   "execution_count": 69,
   "metadata": {},
   "outputs": [],
   "source": [
    "loss_fn = nn.BCELoss()"
   ]
  },
  {
   "cell_type": "markdown",
   "metadata": {},
   "source": [
    "**5. Implement gradient descent**\n",
    "\n",
    "In the train_loop below, I implement gradient descent, which would be called a\n",
    "number of times equal to the total epoch count. The optimizer I choose to use\n",
    "Adam because of its adaptive learning rate and because it is computationally\n",
    "efficient. "
   ]
  },
  {
   "cell_type": "code",
   "execution_count": 96,
   "metadata": {},
   "outputs": [],
   "source": [
    "optimizer = torch.optim.Adam(model.parameters(), lr=learning_rate)\n",
    "\n",
    "def train_loop(data_loader, model, loss_fn, optimizer):\n",
    "    N = len(data_loader.dataset)\n",
    "    total_loss = 0\n",
    "    for batch, (x, y) in enumerate(data_loader):\n",
    "        pred = model(x)\n",
    "        loss = loss_fn(pred, y)\n",
    "        optimizer.zero_grad()\n",
    "        loss.backward()\n",
    "        optimizer.step()\n",
    "        total_loss += loss.item()\n",
    "        # if batch % 100 == 0:\n",
    "        #     print(f\"train loss {format(loss.item())}\")\n",
    "    return total_loss/len(data_loader)\n",
    "\n",
    "def test_loop(data_loader, model, loss_fn):\n",
    "    N = len(data_loader.dataset)\n",
    "    batch_size = len(data_loader)\n",
    "    loss, correct = 0, 0\n",
    "    \n",
    "    with torch.no_grad():\n",
    "        for x, y in data_loader:\n",
    "            pred = model(x)\n",
    "            loss += loss_fn(pred, y).item()\n",
    "            correct += torch.sum((pred > .5) == y)\n",
    "    loss = loss / batch_size\n",
    "    correct = correct/N\n",
    "    # print(f\"test loss: {loss}\")\n",
    "    return loss, correct"
   ]
  },
  {
   "cell_type": "markdown",
   "metadata": {},
   "source": [
    "**6. Present the results using the test set.**\n",
    "\n",
    "Here I actually run the train_loop for the number of epochs. I also calculate\n",
    "the validation loss for each epoch and then display the average. After the\n",
    "loop, I test the model on the test set and display the results. Additionally, I\n",
    "plot the train error for each epoch iteration, and you can see that the error\n",
    "continually decreases."
   ]
  },
  {
   "cell_type": "code",
   "execution_count": 97,
   "metadata": {},
   "outputs": [
    {
     "name": "stdout",
     "output_type": "stream",
     "text": [
      "train results: 0.32061599105596544, correct: 0.8623999953269958\n",
      "avg val loss: 0.42807616381406804\n",
      "test results: 0.4827473187446594, correct: 0.7964000105857849\n"
     ]
    },
    {
     "data": {
      "text/plain": [
       "[<matplotlib.lines.Line2D at 0x20de5537880>]"
      ]
     },
     "execution_count": 97,
     "metadata": {},
     "output_type": "execute_result"
    },
    {
     "data": {
      "image/png": "[encoded data removed]",
      "text/plain": [
       "<Figure size 432x288 with 1 Axes>"
      ]
     },
     "metadata": {
      "needs_background": "light"
     },
     "output_type": "display_data"
    }
   ],
   "source": [
    "loss = 0\n",
    "train_losses = []\n",
    "for i in range(epochs):\n",
    "    train_loss = train_loop(train_data_loader, model, loss_fn, optimizer)\n",
    "    l, _ = test_loop(val_data_loader, model, loss_fn)\n",
    "    train_losses.append(train_loss)\n",
    "    loss += l\n",
    "train_loss, train_correct = test_loop(train_data_loader, model, loss_fn)\n",
    "test_loss, test_correct = test_loop(test_data_loader, model, loss_fn)\n",
    "\n",
    "print(f\"train results: {train_loss}, correct: {train_correct}\")\n",
    "print(f\"avg val loss: {loss/epochs}\")\n",
    "print(f\"test results: {test_loss}, correct: {test_correct}\")\n",
    "plt.title(\"Validation Error vs Epoch\")\n",
    "plt.xlabel(\"Epoch\")\n",
    "plt.ylabel(\"Validation Error\")\n",
    "plt.plot(train_losses)"
   ]
  },
  {
   "cell_type": "markdown",
   "metadata": {},
   "source": [
    "After tuning the hyperparameters manually for some time, I chose the ones\n",
    "listed below. They resuled in higher in sample error, but lower out of sample\n",
    "error, hinting that the model is more generalized. "
   ]
  },
  {
   "cell_type": "code",
   "execution_count": 94,
   "metadata": {},
   "outputs": [
    {
     "name": "stdout",
     "output_type": "stream",
     "text": [
      "train results: 0.3766690456867218, correct: 0.8389999866485596\n",
      "avg val loss: 0.41522377890944506\n",
      "test results: 0.44295234441757203, correct: 0.8064000010490417\n"
     ]
    },
    {
     "data": {
      "text/plain": [
       "[<matplotlib.lines.Line2D at 0x20de54c3fd0>]"
      ]
     },
     "execution_count": 94,
     "metadata": {},
     "output_type": "execute_result"
    },
    {
     "data": {
      "image/png": "[encoded data removed]",
      "text/plain": [
       "<Figure size 432x288 with 1 Axes>"
      ]
     },
     "metadata": {
      "needs_background": "light"
     },
     "output_type": "display_data"
    }
   ],
   "source": [
    "model = NN(140, 140).to(device) # was (200, 200)\n",
    "learning_rate = .001 # same\n",
    "epochs = 200 # was 500\n",
    "loss_fn = nn.BCELoss() # same\n",
    "optimizer = torch.optim.Adam(model.parameters(), lr=learning_rate) # same\n",
    "train_losses = []\n",
    "\n",
    "loss = 0\n",
    "for i in range(epochs):\n",
    "    train_loss = train_loop(train_data_loader, model, loss_fn, optimizer)\n",
    "    l, _ = test_loop(val_data_loader, model, loss_fn)\n",
    "    train_losses.append(train_loss)\n",
    "    loss += l\n",
    "train_loss, train_correct = test_loop(train_data_loader, model, loss_fn)\n",
    "test_loss, test_correct = test_loop(test_data_loader, model, loss_fn)\n",
    "\n",
    "print(f\"train results: {train_loss}, correct: {train_correct}\")\n",
    "print(f\"avg val loss: {loss/epochs}\")\n",
    "print(f\"test results: {test_loss}, correct: {test_correct}\")\n",
    "plt.title(\"Train Error vs Epoch\")\n",
    "plt.xlabel(\"Epoch\")\n",
    "plt.ylabel(\"Train Error\")\n",
    "plt.plot(train_losses)"
   ]
  },
  {
   "cell_type": "markdown",
   "metadata": {},
   "source": [
    "The code below does a grid search in 1 dimension for the optimal number of\n",
    "epochs to use that would have the lowest validation error. Looking at the\n",
    "graph, we can see at first that the validation error decreases as the epochs\n",
    "increases; however, after a certain point, the validation error starts to\n",
    "increase, meaning that the epoch number is too high and we are starting to\n",
    "overfit. "
   ]
  },
  {
   "cell_type": "code",
   "execution_count": 100,
   "metadata": {},
   "outputs": [
    {
     "name": "stdout",
     "output_type": "stream",
     "text": [
      "epochs: [ 25  50  75 100 125 150 175 200 225 250 275 300 325 350 375 400 425 450\n",
      " 475]\n"
     ]
    }
   ],
   "source": [
    "import time\n",
    "\n",
    "step = 25\n",
    "epochs = np.arange(step, 500, 25)\n",
    "print(f\"epochs: {epochs}\")\n",
    "val_losses = []\n",
    "times = []\n",
    "\n",
    "for epoch in epochs:\n",
    "    # print(f\"training for {epoch}\")\n",
    "    model = NN(200, 200).to(device) \n",
    "    learning_rate = .001 # same\n",
    "    loss_fn = nn.BCELoss() # same\n",
    "    optimizer = torch.optim.Adam(model.parameters(), lr=learning_rate) # same\n",
    "    start = time.time()\n",
    "    for i in range(epoch):\n",
    "        train_loop(train_data_loader, model, loss_fn, optimizer)\n",
    "        l, _ = test_loop(val_data_loader, model, loss_fn)\n",
    "        loss += l\n",
    "    times.append(time.time() - start)\n",
    "    val_losses.append(loss/epoch)"
   ]
  },
  {
   "cell_type": "code",
   "execution_count": 101,
   "metadata": {},
   "outputs": [
    {
     "name": "stdout",
     "output_type": "stream",
     "text": [
      "Optimal epochs: 200\n"
     ]
    },
    {
     "data": {
      "image/png": "[encoded data removed]",
      "text/plain": [
       "<Figure size 432x288 with 1 Axes>"
      ]
     },
     "metadata": {
      "needs_background": "light"
     },
     "output_type": "display_data"
    },
    {
     "data": {
      "image/png": "[encoded data removed]",
      "text/plain": [
       "<Figure size 432x288 with 1 Axes>"
      ]
     },
     "metadata": {
      "needs_background": "light"
     },
     "output_type": "display_data"
    }
   ],
   "source": [
    "plt.figure(1)\n",
    "plt.title(\"Epoch Count vs Validation Error\")\n",
    "plt.xlabel(\"Epoch Count\")\n",
    "plt.ylabel(\"Validation Error\")\n",
    "plt.plot(epochs, val_losses)\n",
    "\n",
    "plt.figure(2)\n",
    "plt.title(\"Epoch Count vs Training Time\")\n",
    "plt.xlabel(\"Epochs\")\n",
    "plt.ylabel(\"Time\")\n",
    "plt.plot(epochs, times)\n",
    "\n",
    "\n",
    "print(f\"Optimal epochs: {epochs[np.argmin(val_losses)]}\")"
   ]
  },
  {
   "cell_type": "markdown",
   "metadata": {},
   "source": [
    "### Task 3\n",
    "\n",
    "**Describe how you selected the hyperparameters.**\n",
    "\n",
    "At first, I selected the values for hyperparameters by researching what common\n",
    "starting values are. For example, a learning rate of 0.001 is typical for Adam,\n",
    "and 200 nodes for each inner layer is a good starting point. The number of\n",
    "epochs I chose at the start was 500 because it seemed like a good choice; there\n",
    "was no strict rationale for that. After selecting all the starting parameters,\n",
    "I started tuning them. My process for tuning the hyperparameters was manually\n",
    "done: I trained the model, inspected the validation error only, then adjusted\n",
    "the parameters accordingly. There are more sophisticated ways, such as a grid\n",
    "search, which automates the process and tunes much finer. I implemented this\n",
    "for choosing the optimal number of epochs. In the graph above, you can see a\n",
    "minimum in error that corresponds to the optimal number of epochs, which is\n",
    "what I would choose to use. In the end, I changed the inner layers to use 140\n",
    "nodes each and changed the number of epochs from 500 to 200. This change in\n",
    "hyperparameters improved test results from 79.6% to 81.3%.\n",
    "\n",
    "\n",
    "**What was the rationale behind the technique you used?**\n",
    "\n",
    "There are two primary purposes for selecting hyperparameters. The first is to\n",
    "increase efficiency in training the model. In my case, the hyperparameter that\n",
    "corresponds to this is the learning rate. Since I used the Adam optimizer, it\n",
    "was not too important to tune the learning rate myself, as the Adam optimizer\n",
    "automatically adapts it to the learning conditions. The second purpose for\n",
    "selecting hyperparameters is to reduce overfitting and increase accuracy on\n",
    "out-of-sample data. To do this, as mentioned above, I only paid attention to\n",
    "the validation error and manually adjusted the epoch count and layer size.\n",
    "Additionally, I also implemented a one-dimensional grid search for the number\n",
    "of epochs, which you can see in the graph above. \n",
    "\n",
    "**Did you use regularization? Why, or why not?**\n",
    "\n",
    "Yes, I used regularization. At first, my model used 500 epochs and 200 nodes in\n",
    "each inner layer. As a result, the model was overfitting to the data. To fix\n",
    "this, I needed to use regularization. For NN, one form of regularization is\n",
    "early stopping. To do this, I simply reduced the number of epochs used. Looking\n",
    "at the graph above, you can see that this is an effective form of\n",
    "regularization as there is an optimal number of epochs. Another form of\n",
    "regularization I used was reducing the overall complexity of the model. The NN\n",
    "started out with 200 nodes in each inner layer. To reduce complexity, I simply\n",
    "reduced the number of nodes in the inner layers ( I went from 200 to 140). This\n",
    "is a form of regularization because the neural network has fewer parameters to\n",
    "use. After regularizing the model, I increased the accuracy of the model using\n",
    "out-of-sample data. \n",
    "\n",
    "**Did you use an optimization algorithm? Why or why not?**\n",
    "\n",
    "Yes, I used an optimization algorithm. Using regular gradient descent on 10,000\n",
    "points of data would take way too long. At first, I used stochastic gradient\n",
    "descent, but upon looking at the error plot, it was too sporadic and not\n",
    "correctly \"converging.\" As a result, I switched to using the Adam optimizer.\n",
    "The error plot was much cleaner, and I got better results. Also, by using the\n",
    "Adam optimizer, I did not have to worry about perfecting the learning rate\n",
    "hyperparameter as Adam is adaptive.\n"
   ]
  },
  {
   "cell_type": "markdown",
   "metadata": {},
   "source": [
    "### Task 4"
   ]
  }
 ],
 "metadata": {
  "kernelspec": {
   "display_name": "Python 3.9.9 64-bit",
   "language": "python",
   "name": "python3"
  },
  "language_info": {
   "codemirror_mode": {
    "name": "ipython",
    "version": 3
   },
   "file_extension": ".py",
   "mimetype": "text/x-python",
   "name": "python",
   "nbconvert_exporter": "python",
   "pygments_lexer": "ipython3",
   "version": "3.9.9"
  },
  "orig_nbformat": 4,
  "vscode": {
   "interpreter": {
    "hash": "b4957a3169536379e8f75f7e9878614f7937738a9df979092ace7c23c9fbae51"
   }
  }
 },
 "nbformat": 4,
 "nbformat_minor": 2
}
